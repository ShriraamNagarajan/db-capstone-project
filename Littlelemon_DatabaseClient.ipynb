{
 "cells": [
  {
   "cell_type": "code",
   "execution_count": 1,
   "id": "4185056f",
   "metadata": {},
   "outputs": [],
   "source": [
    "import mysql.connector as connector\n",
    "from mysql.connector import Error"
   ]
  },
  {
   "cell_type": "code",
   "execution_count": 3,
   "id": "67fe2fad",
   "metadata": {},
   "outputs": [],
   "source": [
    "try:\n",
    "    connection = connector.connect(user=\"root\", password=\"Soexcitedtograduatein2024!fall\")\n",
    "except Error as er:\n",
    "    print(\"Error code {}\".format(er.errno))\n",
    "    print(\"Error message {}\".format(er.errmsg))"
   ]
  },
  {
   "cell_type": "code",
   "execution_count": 5,
   "id": "ba837a27",
   "metadata": {},
   "outputs": [
    {
     "name": "stdout",
     "output_type": "stream",
     "text": [
      "('bookings',)\n",
      "('customers',)\n",
      "('employees',)\n",
      "('menuitems',)\n",
      "('menus',)\n",
      "('orderdelivery',)\n",
      "('orderdetail',)\n",
      "('orders',)\n",
      "('ordersview',)\n"
     ]
    }
   ],
   "source": [
    "#Task 1\n",
    "cursor = connection.cursor()\n",
    "query = \"\"\"USE littlelemondm\"\"\"\n",
    "cursor.execute(query)\n",
    "\n",
    "#Task 2\n",
    "show_table_query = \"\"\"SHOW TABLES\"\"\"\n",
    "cursor.execute(show_table_query)\n",
    "results = cursor.fetchall()\n",
    "for result in results:\n",
    "    print(result)"
   ]
  },
  {
   "cell_type": "code",
   "execution_count": 8,
   "id": "3504294e",
   "metadata": {},
   "outputs": [
    {
     "name": "stdout",
     "output_type": "stream",
     "text": [
      "('CustomerName', 'Email', 'Address')\n",
      "('Joakim Iversen', 'joakim@gmail.com', '1234234-234')\n",
      "('Hiroki Yamane', 'hiroki@gmail.com', '1234-23452')\n"
     ]
    }
   ],
   "source": [
    "#Task 3\n",
    "join_query = \"\"\"SELECT CONCAT(C.CustomerFirstName, ' ', C.CustomerLastName) AS CustomerName, C.Email, C.Address FROM Customers AS C INNER JOIN Bookings AS B ON B.CustomerID = C.CustomerID INNER JOIN Orders AS O ON O.BookingID=B.BookingID WHERE O.BillAmount > 60;\"\"\"\n",
    "cursor.execute(join_query)\n",
    "results = cursor.fetchall()\n",
    "print(cursor.column_names)\n",
    "for result in results:\n",
    "    print(result)"
   ]
  },
  {
   "cell_type": "code",
   "execution_count": null,
   "id": "5fa13584",
   "metadata": {},
   "outputs": [],
   "source": []
  }
 ],
 "metadata": {
  "kernelspec": {
   "display_name": "Python 3 (ipykernel)",
   "language": "python",
   "name": "python3"
  },
  "language_info": {
   "codemirror_mode": {
    "name": "ipython",
    "version": 3
   },
   "file_extension": ".py",
   "mimetype": "text/x-python",
   "name": "python",
   "nbconvert_exporter": "python",
   "pygments_lexer": "ipython3",
   "version": "3.11.1"
  }
 },
 "nbformat": 4,
 "nbformat_minor": 5
}
